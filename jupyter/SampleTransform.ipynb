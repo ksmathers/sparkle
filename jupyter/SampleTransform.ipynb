{
 "cells": [
  {
   "cell_type": "code",
   "execution_count": 1,
   "id": "072ebc39",
   "metadata": {},
   "outputs": [],
   "source": [
    "from sparkle import transform_df, Input, Output\n",
    "import sparkle"
   ]
  },
  {
   "cell_type": "code",
   "execution_count": 2,
   "id": "43ef277f",
   "metadata": {},
   "outputs": [],
   "source": [
    "rt = sparkle.SparkleRuntime()\n",
    "vfs = sparkle.Vfs(rt, {'testdata': './testdata'})\n",
    "rt.start()"
   ]
  },
  {
   "cell_type": "code",
   "execution_count": null,
   "id": "e791be33",
   "metadata": {},
   "outputs": [],
   "source": []
  },
  {
   "cell_type": "code",
   "execution_count": 3,
   "id": "7d04235b",
   "metadata": {},
   "outputs": [
    {
     "name": "stdout",
     "output_type": "stream",
     "text": [
      "Loading testdata/oscar_age_female.csv as csv\n"
     ]
    },
    {
     "data": {
      "text/html": [
       "<div>\n",
       "<style scoped>\n",
       "    .dataframe tbody tr th:only-of-type {\n",
       "        vertical-align: middle;\n",
       "    }\n",
       "\n",
       "    .dataframe tbody tr th {\n",
       "        vertical-align: top;\n",
       "    }\n",
       "\n",
       "    .dataframe thead th {\n",
       "        text-align: right;\n",
       "    }\n",
       "</style>\n",
       "<table border=\"1\" class=\"dataframe\">\n",
       "  <thead>\n",
       "    <tr style=\"text-align: right;\">\n",
       "      <th></th>\n",
       "      <th>Index</th>\n",
       "      <th>Year</th>\n",
       "      <th>Age</th>\n",
       "      <th>Name</th>\n",
       "      <th>Movie</th>\n",
       "    </tr>\n",
       "  </thead>\n",
       "  <tbody>\n",
       "    <tr>\n",
       "      <th>0</th>\n",
       "      <td>1</td>\n",
       "      <td>1928</td>\n",
       "      <td>22</td>\n",
       "      <td>Janet Gaynor</td>\n",
       "      <td>Seventh Heaven,Street Angel and Sunrise: A Son...</td>\n",
       "    </tr>\n",
       "    <tr>\n",
       "      <th>1</th>\n",
       "      <td>2</td>\n",
       "      <td>1929</td>\n",
       "      <td>37</td>\n",
       "      <td>Mary Pickford</td>\n",
       "      <td>Coquette</td>\n",
       "    </tr>\n",
       "    <tr>\n",
       "      <th>2</th>\n",
       "      <td>3</td>\n",
       "      <td>1930</td>\n",
       "      <td>28</td>\n",
       "      <td>Norma Shearer</td>\n",
       "      <td>The Divorcee</td>\n",
       "    </tr>\n",
       "    <tr>\n",
       "      <th>3</th>\n",
       "      <td>4</td>\n",
       "      <td>1931</td>\n",
       "      <td>63</td>\n",
       "      <td>Marie Dressler</td>\n",
       "      <td>Min and Bill</td>\n",
       "    </tr>\n",
       "    <tr>\n",
       "      <th>4</th>\n",
       "      <td>5</td>\n",
       "      <td>1932</td>\n",
       "      <td>32</td>\n",
       "      <td>Helen Hayes</td>\n",
       "      <td>The Sin of Madelon Claudet</td>\n",
       "    </tr>\n",
       "    <tr>\n",
       "      <th>...</th>\n",
       "      <td>...</td>\n",
       "      <td>...</td>\n",
       "      <td>...</td>\n",
       "      <td>...</td>\n",
       "      <td>...</td>\n",
       "    </tr>\n",
       "    <tr>\n",
       "      <th>84</th>\n",
       "      <td>85</td>\n",
       "      <td>2012</td>\n",
       "      <td>62</td>\n",
       "      <td>Meryl Streep</td>\n",
       "      <td>The Iron Lady</td>\n",
       "    </tr>\n",
       "    <tr>\n",
       "      <th>85</th>\n",
       "      <td>86</td>\n",
       "      <td>2013</td>\n",
       "      <td>22</td>\n",
       "      <td>Jennifer Lawrence</td>\n",
       "      <td>Silver Linings Playbook</td>\n",
       "    </tr>\n",
       "    <tr>\n",
       "      <th>86</th>\n",
       "      <td>87</td>\n",
       "      <td>2014</td>\n",
       "      <td>44</td>\n",
       "      <td>Cate Blanchett</td>\n",
       "      <td>Blue Jasmine</td>\n",
       "    </tr>\n",
       "    <tr>\n",
       "      <th>87</th>\n",
       "      <td>88</td>\n",
       "      <td>2015</td>\n",
       "      <td>54</td>\n",
       "      <td>Julianne Moore</td>\n",
       "      <td>Still Alice</td>\n",
       "    </tr>\n",
       "    <tr>\n",
       "      <th>88</th>\n",
       "      <td>89</td>\n",
       "      <td>2016</td>\n",
       "      <td>26</td>\n",
       "      <td>Brie Larson</td>\n",
       "      <td>Room</td>\n",
       "    </tr>\n",
       "  </tbody>\n",
       "</table>\n",
       "<p>89 rows × 5 columns</p>\n",
       "</div>"
      ],
      "text/plain": [
       "   Index  Year Age               Name  \\\n",
       "0      1  1928  22       Janet Gaynor   \n",
       "1      2  1929  37      Mary Pickford   \n",
       "2      3  1930  28      Norma Shearer   \n",
       "3      4  1931  63     Marie Dressler   \n",
       "4      5  1932  32        Helen Hayes   \n",
       "..   ...   ...  ..                ...   \n",
       "84    85  2012  62       Meryl Streep   \n",
       "85    86  2013  22  Jennifer Lawrence   \n",
       "86    87  2014  44     Cate Blanchett   \n",
       "87    88  2015  54     Julianne Moore   \n",
       "88    89  2016  26        Brie Larson   \n",
       "\n",
       "                                                Movie  \n",
       "0   Seventh Heaven,Street Angel and Sunrise: A Son...  \n",
       "1                                            Coquette  \n",
       "2                                        The Divorcee  \n",
       "3                                        Min and Bill  \n",
       "4                          The Sin of Madelon Claudet  \n",
       "..                                                ...  \n",
       "84                                      The Iron Lady  \n",
       "85                            Silver Linings Playbook  \n",
       "86                                       Blue Jasmine  \n",
       "87                                        Still Alice  \n",
       "88                                               Room  \n",
       "\n",
       "[89 rows x 5 columns]"
      ]
     },
     "execution_count": 3,
     "metadata": {},
     "output_type": "execute_result"
    }
   ],
   "source": [
    "bar = Input(\"testdata/oscar_age_female.csv\")\n",
    "rt.load(bar).toPandas()"
   ]
  },
  {
   "cell_type": "code",
   "execution_count": 4,
   "id": "1e4cab6d",
   "metadata": {},
   "outputs": [],
   "source": [
    "\n",
    "#df = rt.load(bar)"
   ]
  },
  {
   "cell_type": "code",
   "execution_count": 5,
   "id": "77512248",
   "metadata": {},
   "outputs": [],
   "source": [
    "from pyspark.sql import DataFrame\n",
    "import pyspark.sql.functions as F"
   ]
  },
  {
   "cell_type": "code",
   "execution_count": 6,
   "id": "5ba68216",
   "metadata": {},
   "outputs": [],
   "source": [
    "@transform_df(\n",
    "    Output(\"testdata/result2.pq\"),\n",
    "    xx=Input(\"testdata/oscar_age_female.csv\"),\n",
    "    xy=Input(\"testdata/oscar_age_male.csv\")\n",
    ")\n",
    "def mytransform(xx : DataFrame, xy : DataFrame):\n",
    "    return (xx.withColumn('Gender', F.lit('female'))\n",
    "            .union(xy.withColumn('Gender', F.lit('male')))\n",
    "            .orderBy(xx.Age))\n",
    "\n",
    "rt.transforms.clear()\n",
    "rt.transforms.append(mytransform)"
   ]
  },
  {
   "cell_type": "code",
   "execution_count": null,
   "id": "e610435e-0dc2-4962-8326-144b59d20409",
   "metadata": {},
   "outputs": [],
   "source": []
  },
  {
   "cell_type": "code",
   "execution_count": 7,
   "id": "34005ca5",
   "metadata": {},
   "outputs": [
    {
     "name": "stdout",
     "output_type": "stream",
     "text": [
      "Reading testdata/oscar_age_female.csv\n",
      "Loading testdata/oscar_age_female.csv as csv\n",
      "Reading testdata/oscar_age_male.csv\n",
      "Loading testdata/oscar_age_male.csv as csv\n",
      "Saving testdata/result2.pq as parquet\n"
     ]
    }
   ],
   "source": [
    "rt.submit()"
   ]
  },
  {
   "cell_type": "code",
   "execution_count": 8,
   "id": "f3a9d841",
   "metadata": {},
   "outputs": [
    {
     "name": "stdout",
     "output_type": "stream",
     "text": [
      "Loading testdata/result2.pq as parquet\n"
     ]
    }
   ],
   "source": [
    "df=rt.load(Input(\"testdata/result2.pq\")).toPandas()"
   ]
  },
  {
   "cell_type": "code",
   "execution_count": 9,
   "id": "50ce8b1c",
   "metadata": {},
   "outputs": [],
   "source": [
    "import matplotlib.pyplot as plt"
   ]
  },
  {
   "cell_type": "code",
   "execution_count": 10,
   "id": "8fce8792",
   "metadata": {},
   "outputs": [
    {
     "data": {
      "text/plain": [
       "<matplotlib.legend.Legend at 0x7f1b37e0b280>"
      ]
     },
     "execution_count": 10,
     "metadata": {},
     "output_type": "execute_result"
    },
    {
     "data": {
      "image/png": "[encoded data removed]",
      "text/plain": [
       "<Figure size 640x480 with 1 Axes>"
      ]
     },
     "metadata": {},
     "output_type": "display_data"
    }
   ],
   "source": [
    "plt.hist(df[df.Gender=='male'].Age.astype(int), alpha=0.5, color='#0080a0', label='male', bins=10)\n",
    "plt.hist(df[df.Gender=='female'].Age.astype(int), alpha=0.5, color='#a03060', label='female', bins=10)\n",
    "plt.legend()"
   ]
  },
  {
   "cell_type": "code",
   "execution_count": null,
   "id": "b5846577",
   "metadata": {},
   "outputs": [],
   "source": []
  }
 ],
 "metadata": {
  "kernelspec": {
   "display_name": "Python 3 (ipykernel)",
   "language": "python",
   "name": "python3"
  },
  "language_info": {
   "codemirror_mode": {
    "name": "ipython",
    "version": 3
   },
   "file_extension": ".py",
   "mimetype": "text/x-python",
   "name": "python",
   "nbconvert_exporter": "python",
   "pygments_lexer": "ipython3",
   "version": "3.10.6"
  },
  "vscode": {
   "interpreter": {
    "hash": "591083f5fa265c459f46c4108737b3bbd0889b3647d75f004ad7a44313ff40bc"
   }
  }
 },
 "nbformat": 4,
 "nbformat_minor": 5
}
