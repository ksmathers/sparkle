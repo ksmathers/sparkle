{
 "cells": [
  {
   "cell_type": "code",
   "execution_count": 1,
   "id": "072ebc39",
   "metadata": {},
   "outputs": [],
   "source": [
    "from sparkle.transforms.api import transform_df, Input, Output\n",
    "import sparkle"
   ]
  },
  {
   "cell_type": "code",
   "execution_count": 2,
   "id": "43ef277f",
   "metadata": {},
   "outputs": [
    {
     "ename": "Exception",
     "evalue": "Java gateway process exited before sending its port number",
     "output_type": "error",
     "traceback": [
      "\u001b[0;31m---------------------------------------------------------------------------\u001b[0m",
      "\u001b[0;31mException\u001b[0m                                 Traceback (most recent call last)",
      "\u001b[1;32m/Users/K0SF/Desktop/git/sparkle/SampleTransform.ipynb Cell 2\u001b[0m in \u001b[0;36m<cell line: 2>\u001b[0;34m()\u001b[0m\n\u001b[1;32m      <a href='vscode-notebook-cell:/Users/K0SF/Desktop/git/sparkle/SampleTransform.ipynb#W1sZmlsZQ%3D%3D?line=0'>1</a>\u001b[0m rt \u001b[39m=\u001b[39m sparkle\u001b[39m.\u001b[39mSparkleRuntime()\n\u001b[0;32m----> <a href='vscode-notebook-cell:/Users/K0SF/Desktop/git/sparkle/SampleTransform.ipynb#W1sZmlsZQ%3D%3D?line=1'>2</a>\u001b[0m rt\u001b[39m.\u001b[39;49mstart()\n",
      "File \u001b[0;32m~/Desktop/git/sparkle/sparkle/runtime.py:29\u001b[0m, in \u001b[0;36mSparkleRuntime.start\u001b[0;34m(self, appname, driver_memory, executor_memory)\u001b[0m\n\u001b[1;32m     27\u001b[0m \u001b[39mdef\u001b[39;00m \u001b[39mstart\u001b[39m(\u001b[39mself\u001b[39m,appname\u001b[39m=\u001b[39m\u001b[39m\"\u001b[39m\u001b[39msparkle\u001b[39m\u001b[39m\"\u001b[39m,driver_memory\u001b[39m=\u001b[39m\u001b[39m\"\u001b[39m\u001b[39m1g\u001b[39m\u001b[39m\"\u001b[39m,executor_memory\u001b[39m=\u001b[39m\u001b[39m\"\u001b[39m\u001b[39m4g\u001b[39m\u001b[39m\"\u001b[39m):\n\u001b[1;32m     28\u001b[0m     os\u001b[39m.\u001b[39menviron[\u001b[39m\"\u001b[39m\u001b[39mPYSPARK_SUBMIT_ARGS\u001b[39m\u001b[39m\"\u001b[39m] \u001b[39m=\u001b[39m \u001b[39mf\u001b[39m\u001b[39m\"\u001b[39m\u001b[39m--driver-memory \u001b[39m\u001b[39m{\u001b[39;00mdriver_memory\u001b[39m}\u001b[39;00m\u001b[39m --executor-memory \u001b[39m\u001b[39m{\u001b[39;00mexecutor_memory\u001b[39m}\u001b[39;00m\u001b[39m pyspark-shell\u001b[39m\u001b[39m\"\u001b[39m\n\u001b[0;32m---> 29\u001b[0m     \u001b[39mself\u001b[39m\u001b[39m.\u001b[39mspark \u001b[39m=\u001b[39m SparkSession\u001b[39m.\u001b[39;49mbuilder\u001b[39m.\u001b[39;49mappName(appname)\u001b[39m.\u001b[39;49mgetOrCreate()\n",
      "File \u001b[0;32m~/opt/anaconda3/lib/python3.8/site-packages/pyspark/sql/session.py:228\u001b[0m, in \u001b[0;36mSparkSession.Builder.getOrCreate\u001b[0;34m(self)\u001b[0m\n\u001b[1;32m    226\u001b[0m         sparkConf\u001b[39m.\u001b[39mset(key, value)\n\u001b[1;32m    227\u001b[0m     \u001b[39m# This SparkContext may be an existing one.\u001b[39;00m\n\u001b[0;32m--> 228\u001b[0m     sc \u001b[39m=\u001b[39m SparkContext\u001b[39m.\u001b[39;49mgetOrCreate(sparkConf)\n\u001b[1;32m    229\u001b[0m \u001b[39m# Do not update `SparkConf` for existing `SparkContext`, as it's shared\u001b[39;00m\n\u001b[1;32m    230\u001b[0m \u001b[39m# by all sessions.\u001b[39;00m\n\u001b[1;32m    231\u001b[0m session \u001b[39m=\u001b[39m SparkSession(sc)\n",
      "File \u001b[0;32m~/opt/anaconda3/lib/python3.8/site-packages/pyspark/context.py:384\u001b[0m, in \u001b[0;36mSparkContext.getOrCreate\u001b[0;34m(cls, conf)\u001b[0m\n\u001b[1;32m    382\u001b[0m \u001b[39mwith\u001b[39;00m SparkContext\u001b[39m.\u001b[39m_lock:\n\u001b[1;32m    383\u001b[0m     \u001b[39mif\u001b[39;00m SparkContext\u001b[39m.\u001b[39m_active_spark_context \u001b[39mis\u001b[39;00m \u001b[39mNone\u001b[39;00m:\n\u001b[0;32m--> 384\u001b[0m         SparkContext(conf\u001b[39m=\u001b[39;49mconf \u001b[39mor\u001b[39;49;00m SparkConf())\n\u001b[1;32m    385\u001b[0m     \u001b[39mreturn\u001b[39;00m SparkContext\u001b[39m.\u001b[39m_active_spark_context\n",
      "File \u001b[0;32m~/opt/anaconda3/lib/python3.8/site-packages/pyspark/context.py:144\u001b[0m, in \u001b[0;36mSparkContext.__init__\u001b[0;34m(self, master, appName, sparkHome, pyFiles, environment, batchSize, serializer, conf, gateway, jsc, profiler_cls)\u001b[0m\n\u001b[1;32m    139\u001b[0m \u001b[39mif\u001b[39;00m gateway \u001b[39mis\u001b[39;00m \u001b[39mnot\u001b[39;00m \u001b[39mNone\u001b[39;00m \u001b[39mand\u001b[39;00m gateway\u001b[39m.\u001b[39mgateway_parameters\u001b[39m.\u001b[39mauth_token \u001b[39mis\u001b[39;00m \u001b[39mNone\u001b[39;00m:\n\u001b[1;32m    140\u001b[0m     \u001b[39mraise\u001b[39;00m \u001b[39mValueError\u001b[39;00m(\n\u001b[1;32m    141\u001b[0m         \u001b[39m\"\u001b[39m\u001b[39mYou are trying to pass an insecure Py4j gateway to Spark. This\u001b[39m\u001b[39m\"\u001b[39m\n\u001b[1;32m    142\u001b[0m         \u001b[39m\"\u001b[39m\u001b[39m is not allowed as it is a security risk.\u001b[39m\u001b[39m\"\u001b[39m)\n\u001b[0;32m--> 144\u001b[0m SparkContext\u001b[39m.\u001b[39;49m_ensure_initialized(\u001b[39mself\u001b[39;49m, gateway\u001b[39m=\u001b[39;49mgateway, conf\u001b[39m=\u001b[39;49mconf)\n\u001b[1;32m    145\u001b[0m \u001b[39mtry\u001b[39;00m:\n\u001b[1;32m    146\u001b[0m     \u001b[39mself\u001b[39m\u001b[39m.\u001b[39m_do_init(master, appName, sparkHome, pyFiles, environment, batchSize, serializer,\n\u001b[1;32m    147\u001b[0m                   conf, jsc, profiler_cls)\n",
      "File \u001b[0;32m~/opt/anaconda3/lib/python3.8/site-packages/pyspark/context.py:331\u001b[0m, in \u001b[0;36mSparkContext._ensure_initialized\u001b[0;34m(cls, instance, gateway, conf)\u001b[0m\n\u001b[1;32m    329\u001b[0m \u001b[39mwith\u001b[39;00m SparkContext\u001b[39m.\u001b[39m_lock:\n\u001b[1;32m    330\u001b[0m     \u001b[39mif\u001b[39;00m \u001b[39mnot\u001b[39;00m SparkContext\u001b[39m.\u001b[39m_gateway:\n\u001b[0;32m--> 331\u001b[0m         SparkContext\u001b[39m.\u001b[39m_gateway \u001b[39m=\u001b[39m gateway \u001b[39mor\u001b[39;00m launch_gateway(conf)\n\u001b[1;32m    332\u001b[0m         SparkContext\u001b[39m.\u001b[39m_jvm \u001b[39m=\u001b[39m SparkContext\u001b[39m.\u001b[39m_gateway\u001b[39m.\u001b[39mjvm\n\u001b[1;32m    334\u001b[0m     \u001b[39mif\u001b[39;00m instance:\n",
      "File \u001b[0;32m~/opt/anaconda3/lib/python3.8/site-packages/pyspark/java_gateway.py:108\u001b[0m, in \u001b[0;36mlaunch_gateway\u001b[0;34m(conf, popen_kwargs)\u001b[0m\n\u001b[1;32m    105\u001b[0m     time\u001b[39m.\u001b[39msleep(\u001b[39m0.1\u001b[39m)\n\u001b[1;32m    107\u001b[0m \u001b[39mif\u001b[39;00m \u001b[39mnot\u001b[39;00m os\u001b[39m.\u001b[39mpath\u001b[39m.\u001b[39misfile(conn_info_file):\n\u001b[0;32m--> 108\u001b[0m     \u001b[39mraise\u001b[39;00m \u001b[39mException\u001b[39;00m(\u001b[39m\"\u001b[39m\u001b[39mJava gateway process exited before sending its port number\u001b[39m\u001b[39m\"\u001b[39m)\n\u001b[1;32m    110\u001b[0m \u001b[39mwith\u001b[39;00m \u001b[39mopen\u001b[39m(conn_info_file, \u001b[39m\"\u001b[39m\u001b[39mrb\u001b[39m\u001b[39m\"\u001b[39m) \u001b[39mas\u001b[39;00m info:\n\u001b[1;32m    111\u001b[0m     gateway_port \u001b[39m=\u001b[39m read_int(info)\n",
      "\u001b[0;31mException\u001b[0m: Java gateway process exited before sending its port number"
     ]
    }
   ],
   "source": [
    "rt = sparkle.SparkleRuntime()\n",
    "rt.start()"
   ]
  },
  {
   "cell_type": "code",
   "execution_count": null,
   "id": "e791be33",
   "metadata": {},
   "outputs": [],
   "source": []
  },
  {
   "cell_type": "code",
   "execution_count": 3,
   "id": "7d04235b",
   "metadata": {},
   "outputs": [
    {
     "data": {
      "text/html": [
       "<div>\n",
       "<style scoped>\n",
       "    .dataframe tbody tr th:only-of-type {\n",
       "        vertical-align: middle;\n",
       "    }\n",
       "\n",
       "    .dataframe tbody tr th {\n",
       "        vertical-align: top;\n",
       "    }\n",
       "\n",
       "    .dataframe thead th {\n",
       "        text-align: right;\n",
       "    }\n",
       "</style>\n",
       "<table border=\"1\" class=\"dataframe\">\n",
       "  <thead>\n",
       "    <tr style=\"text-align: right;\">\n",
       "      <th></th>\n",
       "      <th>Index</th>\n",
       "      <th>Year</th>\n",
       "      <th>Age</th>\n",
       "      <th>Name</th>\n",
       "      <th>Movie</th>\n",
       "    </tr>\n",
       "  </thead>\n",
       "  <tbody>\n",
       "    <tr>\n",
       "      <th>0</th>\n",
       "      <td>1</td>\n",
       "      <td>1928</td>\n",
       "      <td>22</td>\n",
       "      <td>Janet Gaynor</td>\n",
       "      <td>Seventh Heaven,Street Angel and Sunrise: A Son...</td>\n",
       "    </tr>\n",
       "    <tr>\n",
       "      <th>1</th>\n",
       "      <td>2</td>\n",
       "      <td>1929</td>\n",
       "      <td>37</td>\n",
       "      <td>Mary Pickford</td>\n",
       "      <td>Coquette</td>\n",
       "    </tr>\n",
       "    <tr>\n",
       "      <th>2</th>\n",
       "      <td>3</td>\n",
       "      <td>1930</td>\n",
       "      <td>28</td>\n",
       "      <td>Norma Shearer</td>\n",
       "      <td>The Divorcee</td>\n",
       "    </tr>\n",
       "    <tr>\n",
       "      <th>3</th>\n",
       "      <td>4</td>\n",
       "      <td>1931</td>\n",
       "      <td>63</td>\n",
       "      <td>Marie Dressler</td>\n",
       "      <td>Min and Bill</td>\n",
       "    </tr>\n",
       "    <tr>\n",
       "      <th>4</th>\n",
       "      <td>5</td>\n",
       "      <td>1932</td>\n",
       "      <td>32</td>\n",
       "      <td>Helen Hayes</td>\n",
       "      <td>The Sin of Madelon Claudet</td>\n",
       "    </tr>\n",
       "    <tr>\n",
       "      <th>...</th>\n",
       "      <td>...</td>\n",
       "      <td>...</td>\n",
       "      <td>...</td>\n",
       "      <td>...</td>\n",
       "      <td>...</td>\n",
       "    </tr>\n",
       "    <tr>\n",
       "      <th>84</th>\n",
       "      <td>85</td>\n",
       "      <td>2012</td>\n",
       "      <td>62</td>\n",
       "      <td>Meryl Streep</td>\n",
       "      <td>The Iron Lady</td>\n",
       "    </tr>\n",
       "    <tr>\n",
       "      <th>85</th>\n",
       "      <td>86</td>\n",
       "      <td>2013</td>\n",
       "      <td>22</td>\n",
       "      <td>Jennifer Lawrence</td>\n",
       "      <td>Silver Linings Playbook</td>\n",
       "    </tr>\n",
       "    <tr>\n",
       "      <th>86</th>\n",
       "      <td>87</td>\n",
       "      <td>2014</td>\n",
       "      <td>44</td>\n",
       "      <td>Cate Blanchett</td>\n",
       "      <td>Blue Jasmine</td>\n",
       "    </tr>\n",
       "    <tr>\n",
       "      <th>87</th>\n",
       "      <td>88</td>\n",
       "      <td>2015</td>\n",
       "      <td>54</td>\n",
       "      <td>Julianne Moore</td>\n",
       "      <td>Still Alice</td>\n",
       "    </tr>\n",
       "    <tr>\n",
       "      <th>88</th>\n",
       "      <td>89</td>\n",
       "      <td>2016</td>\n",
       "      <td>26</td>\n",
       "      <td>Brie Larson</td>\n",
       "      <td>Room</td>\n",
       "    </tr>\n",
       "  </tbody>\n",
       "</table>\n",
       "<p>89 rows × 5 columns</p>\n",
       "</div>"
      ],
      "text/plain": [
       "   Index  Year Age               Name  \\\n",
       "0      1  1928  22       Janet Gaynor   \n",
       "1      2  1929  37      Mary Pickford   \n",
       "2      3  1930  28      Norma Shearer   \n",
       "3      4  1931  63     Marie Dressler   \n",
       "4      5  1932  32        Helen Hayes   \n",
       "..   ...   ...  ..                ...   \n",
       "84    85  2012  62       Meryl Streep   \n",
       "85    86  2013  22  Jennifer Lawrence   \n",
       "86    87  2014  44     Cate Blanchett   \n",
       "87    88  2015  54     Julianne Moore   \n",
       "88    89  2016  26        Brie Larson   \n",
       "\n",
       "                                                Movie  \n",
       "0   Seventh Heaven,Street Angel and Sunrise: A Son...  \n",
       "1                                            Coquette  \n",
       "2                                        The Divorcee  \n",
       "3                                        Min and Bill  \n",
       "4                          The Sin of Madelon Claudet  \n",
       "..                                                ...  \n",
       "84                                      The Iron Lady  \n",
       "85                            Silver Linings Playbook  \n",
       "86                                       Blue Jasmine  \n",
       "87                                        Still Alice  \n",
       "88                                               Room  \n",
       "\n",
       "[89 rows x 5 columns]"
      ]
     },
     "execution_count": 3,
     "metadata": {},
     "output_type": "execute_result"
    }
   ],
   "source": [
    "bar = Input(\"testdata/oscar_age_female.csv\")\n",
    "rt.load(bar).toPandas()"
   ]
  },
  {
   "cell_type": "code",
   "execution_count": 4,
   "id": "1e4cab6d",
   "metadata": {},
   "outputs": [],
   "source": [
    "#df = rt.load(bar)"
   ]
  },
  {
   "cell_type": "code",
   "execution_count": 5,
   "id": "77512248",
   "metadata": {},
   "outputs": [],
   "source": [
    "from pyspark.sql import DataFrame\n",
    "import pyspark.sql.functions as F"
   ]
  },
  {
   "cell_type": "code",
   "execution_count": 6,
   "id": "5ba68216",
   "metadata": {},
   "outputs": [],
   "source": [
    "@transform_df(\n",
    "    Output(\"testdata/result2\"),\n",
    "    xx=Input(\"testdata/oscar_age_female.csv\"),\n",
    "    xy=Input(\"testdata/oscar_age_male.csv\")\n",
    ")\n",
    "def mytransform(ctx, xx : DataFrame, xy : DataFrame):\n",
    "    return (xx.withColumn('Gender', F.lit('female'))\n",
    "            .union(xy.withColumn('Gender', F.lit('male')))\n",
    "            .orderBy(xx.Age))\n",
    "\n",
    "rt.transforms.clear()\n",
    "rt.add_transform(mytransform)"
   ]
  },
  {
   "cell_type": "code",
   "execution_count": 7,
   "id": "34005ca5",
   "metadata": {},
   "outputs": [
    {
     "name": "stdout",
     "output_type": "stream",
     "text": [
      "Reading testdata/oscar_age_female.csv\n",
      "Reading testdata/oscar_age_male.csv\n",
      "Saving testdata/result2\n"
     ]
    }
   ],
   "source": [
    "rt.submit()"
   ]
  },
  {
   "cell_type": "code",
   "execution_count": 8,
   "id": "f3a9d841",
   "metadata": {},
   "outputs": [],
   "source": [
    "df=rt.load(Input(\"testdata/result2\")).toPandas()"
   ]
  },
  {
   "cell_type": "code",
   "execution_count": 9,
   "id": "50ce8b1c",
   "metadata": {},
   "outputs": [],
   "source": [
    "import matplotlib.pyplot as plt"
   ]
  },
  {
   "cell_type": "code",
   "execution_count": 10,
   "id": "8fce8792",
   "metadata": {},
   "outputs": [
    {
     "data": {
      "text/plain": [
       "<matplotlib.legend.Legend at 0x7efb4f8f8d00>"
      ]
     },
     "execution_count": 10,
     "metadata": {},
     "output_type": "execute_result"
    },
    {
     "data": {
      "image/png": "[encoded data removed]",
      "text/plain": [
       "<Figure size 432x288 with 1 Axes>"
      ]
     },
     "metadata": {
      "needs_background": "light"
     },
     "output_type": "display_data"
    }
   ],
   "source": [
    "plt.hist(df[df.Gender=='male'].Age.astype(int), alpha=0.5, label='male', bins=10)\n",
    "plt.hist(df[df.Gender=='female'].Age.astype(int), alpha=0.5, label='female', bins=10)\n",
    "plt.legend()"
   ]
  },
  {
   "cell_type": "code",
   "execution_count": null,
   "id": "b5846577",
   "metadata": {},
   "outputs": [],
   "source": []
  }
 ],
 "metadata": {
  "kernelspec": {
   "display_name": "Python 3.8.3 ('base')",
   "language": "python",
   "name": "python3"
  },
  "language_info": {
   "codemirror_mode": {
    "name": "ipython",
    "version": 3
   },
   "file_extension": ".py",
   "mimetype": "text/x-python",
   "name": "python",
   "nbconvert_exporter": "python",
   "pygments_lexer": "ipython3",
   "version": "3.8.3"
  },
  "vscode": {
   "interpreter": {
    "hash": "591083f5fa265c459f46c4108737b3bbd0889b3647d75f004ad7a44313ff40bc"
   }
  }
 },
 "nbformat": 4,
 "nbformat_minor": 5
}
